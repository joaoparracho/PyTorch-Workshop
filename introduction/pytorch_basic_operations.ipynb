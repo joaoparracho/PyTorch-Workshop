{
 "cells": [
  {
   "cell_type": "markdown",
   "metadata": {},
   "source": [
    "[![Open In Colab](https://colab.research.google.com/assets/colab-badge.svg)](https://colab.research.google.com/github/joaoparracho/PyTorch-Workshop/blob/main/introduction/pytorch_basic_operations.ipynb)"
   ]
  },
  {
   "cell_type": "code",
   "execution_count": 15,
   "metadata": {},
   "outputs": [],
   "source": [
    "import numpy as np\n",
    "import torch"
   ]
  },
  {
   "cell_type": "code",
   "execution_count": 16,
   "metadata": {},
   "outputs": [
    {
     "name": "stdout",
     "output_type": "stream",
     "text": [
      "Scalar\n",
      "1\n",
      "tensor([1.])\n",
      "1D Array\n",
      "[1. 2. 3.]\n",
      "[1. 2. 3.]\n",
      "(3,)\n",
      "(3,)\n",
      "2D Array\n",
      "[[1. 2. 3.]\n",
      " [4. 5. 6.]]\n",
      "tensor([[1., 2., 3.],\n",
      "        [4., 5., 6.]])\n",
      "(2, 3)\n",
      "torch.Size([2, 3])\n",
      "3D Array\n",
      "[[[1. 2.]\n",
      "  [3. 4.]]\n",
      "\n",
      " [[5. 6.]\n",
      "  [7. 8.]]]\n",
      "tensor([[[1., 2.],\n",
      "         [3., 4.]],\n",
      "\n",
      "        [[5., 6.],\n",
      "         [7., 8.]]])\n",
      "(2, 2, 2)\n",
      "torch.Size([2, 2, 2])\n",
      "4D Array\n",
      "[[[[1 2]\n",
      "   [3 4]]\n",
      "\n",
      "  [[5 6]\n",
      "   [7 8]]]\n",
      "\n",
      "\n",
      " [[[1 2]\n",
      "   [3 4]]\n",
      "\n",
      "  [[5 6]\n",
      "   [7 8]]]]\n",
      "tensor([[[[1., 2.],\n",
      "          [3., 4.]],\n",
      "\n",
      "         [[5., 6.],\n",
      "          [7., 8.]]],\n",
      "\n",
      "\n",
      "        [[[1., 2.],\n",
      "          [3., 4.]],\n",
      "\n",
      "         [[5., 6.],\n",
      "          [7., 8.]]]])\n",
      "(2, 2, 2, 2)\n",
      "torch.Size([2, 2, 2, 2])\n"
     ]
    }
   ],
   "source": [
    "\n",
    "# scalar\n",
    "print(\"Scalar\")\n",
    "x_n = 1\n",
    "x_t = torch.Tensor([1])\n",
    "print(x_n)\n",
    "print(x_t)\n",
    "\n",
    "# 1D Array\n",
    "print(\"1D Array\")\n",
    "x_n = np.array([1.0,2.0,3.0])\n",
    "x_t = np.array([1.0,2.0,3.0])\n",
    "print(x_n)\n",
    "print(x_t)\n",
    "print(x_n.shape)\n",
    "print(x_t.shape)\n",
    "\n",
    "# 2D Array\n",
    "print(\"2D Array\")\n",
    "x_n = np.array([[1.0,2.0,3.0],\n",
    "                [4.0,5.0,6.0]])\n",
    "x_t = torch.Tensor([[1.0,2.0,3.0],\n",
    "                    [4.0,5.0,6.0]])\n",
    "print(x_n)\n",
    "print(x_t)\n",
    "print(x_n.shape)\n",
    "print(x_t.shape)\n",
    "\n",
    "# 3D Array\n",
    "print(\"3D Array\")\n",
    "x_n = np.array([[[1.0,2.0],[3.0,4.0]],\n",
    "                [[5.0,6.0],[7.0,8.0]]])\n",
    "x_t = torch.Tensor([[[1.0,2.0],[3.0,4.0]],\n",
    "                    [[5.0,6.0],[7.0,8.0]]])\n",
    "\n",
    "print(x_n)\n",
    "print(x_t)\n",
    "print(x_n.shape)\n",
    "print(x_t.shape)\n",
    "\n",
    "# 4D Array\n",
    "print(\"4D Array\")\n",
    "x_n = np.array([[[[1,2],[3,4]],[[5,6],[7,8]]],\n",
    "                [[[1,2],[3,4]],[[5,6],[7,8]]]])\n",
    "x_t = torch.Tensor([[[[1,2],[3,4]],[[5,6],[7,8]]],\n",
    "                    [[[1,2],[3,4]],[[5,6],[7,8]]]])\n",
    "print(x_n)\n",
    "print(x_t)\n",
    "print(x_n.shape)\n",
    "print(x_t.shape)"
   ]
  },
  {
   "cell_type": "markdown",
   "metadata": {},
   "source": [
    "### Tensor Initialisation"
   ]
  },
  {
   "cell_type": "code",
   "execution_count": 22,
   "metadata": {},
   "outputs": [
    {
     "name": "stdout",
     "output_type": "stream",
     "text": [
      "[[0. 0.]\n",
      " [0. 0.]]\n",
      "tensor([[0., 0.],\n",
      "        [0., 0.]])\n",
      "[[1. 1.]\n",
      " [1. 1.]]\n",
      "tensor([[1., 1.],\n",
      "        [1., 1.]])\n",
      "[[0.61739119 0.37002676]\n",
      " [0.9835852  0.65328239]]\n",
      "tensor([[0.6780, 0.8082],\n",
      "        [0.2837, 0.0393]])\n"
     ]
    }
   ],
   "source": [
    "\n",
    "# Initialising with zeros\n",
    "x = np.zeros((2,2))\n",
    "y = torch.zeros((2,2))\n",
    "print(x)\n",
    "print(y)\n",
    "# Initialising with ones\n",
    "x = np.ones((2,2))\n",
    "y = torch.ones((2,2))\n",
    "print(x)\n",
    "print(y)\n",
    "# Initialising randomly\n",
    "x = np.random.rand(2,2)\n",
    "y = torch.rand((2,2))\n",
    "print(x)\n",
    "print(y)"
   ]
  },
  {
   "cell_type": "markdown",
   "metadata": {},
   "source": [
    "### Tensor Attributes"
   ]
  },
  {
   "cell_type": "code",
   "execution_count": 18,
   "metadata": {},
   "outputs": [
    {
     "name": "stdout",
     "output_type": "stream",
     "text": [
      "torch.Size([4, 3, 20, 20])\n",
      "torch.FloatTensor\n",
      "cpu\n"
     ]
    }
   ],
   "source": [
    "\n",
    "x = torch.rand(4,3,20,20)\n",
    "\n",
    "print(x.shape) # torch.Size([4, 3, 20, 20])\n",
    "print(x.type()) # torch.FloatTensor\n",
    "print(x.device) # cpu"
   ]
  },
  {
   "cell_type": "markdown",
   "metadata": {},
   "source": [
    "### From numpy to PyTorch, and CUDA"
   ]
  },
  {
   "cell_type": "code",
   "execution_count": 19,
   "metadata": {},
   "outputs": [
    {
     "name": "stdout",
     "output_type": "stream",
     "text": [
      "torch.Size([4, 3, 20, 20])\n",
      "torch.cuda.DoubleTensor\n",
      "cuda:0\n"
     ]
    }
   ],
   "source": [
    "x = np.random.rand(4,3,20,20)\n",
    "# Convert numpy array to PyTorch tensor\n",
    "y = torch.from_numpy(x) # Returns a cpu tensor\n",
    "# Convert PyTorch tensor to numpy array\n",
    "z = y.numpy()\n",
    "\n",
    "if torch.cuda.is_available():\n",
    "    device = \"cuda\"\n",
    "else:\n",
    "    device =\"cpu\"\n",
    "# Load the tensor to the cpu or cuda (gpu)\n",
    "y = y.to(device)\n",
    "\n",
    "print(y.shape) \n",
    "print(y.type())\n",
    "print(y.device)"
   ]
  },
  {
   "cell_type": "markdown",
   "metadata": {},
   "source": [
    "### Tensors: Operations"
   ]
  },
  {
   "cell_type": "code",
   "execution_count": 21,
   "metadata": {},
   "outputs": [
    {
     "name": "stdout",
     "output_type": "stream",
     "text": [
      "torch.Size([4, 3, 10, 20])\n",
      "torch.Size([4, 3, 10, 20])\n",
      "torch.Size([4, 3, 20, 10])\n",
      "torch.Size([4, 3, 20, 10])\n",
      "torch.Size([4, 3, 20, 20])\n",
      "torch.Size([4, 3, 20, 20])\n",
      "torch.Size([20, 4, 20, 3])\n"
     ]
    }
   ],
   "source": [
    "\n",
    "x = torch.rand((4,3,20,20))\n",
    "# Indexing\n",
    "x_1 = x[:,:,0:10,:] # torch.Size ([4, 3, 10, 20])\n",
    "x_2 = x[:,:,10:,:] # torch.Size ([4, 3, 10, 20])\n",
    "x_3 = x[:,:,:,0:10] # torch.Size ([4, 3, 20, 10])\n",
    "x_4 = x[:,:,:,10:] # torch.Size ([4, 3, 20, 10])\n",
    "print(x_1.shape)\n",
    "print(x_2.shape)\n",
    "print(x_3.shape)\n",
    "print(x_4.shape)\n",
    "# Concatenate tensors\n",
    "y_1 = torch.cat((x_1,x_2),dim=2) # torch.Size ([4, 3, 20, 20])\n",
    "y_2 = torch.cat((x_3,x_4),dim=3) # torch.Size ([4, 3, 20, 20])\n",
    "\n",
    "print(y_1.shape)\n",
    "print(y_2.shape)\n",
    "# Swap tensors dimension\n",
    "z = x.permute(3,0,2,1) # # torch.Size ([20, 4, 20, 3])\n",
    "print(z.shape)"
   ]
  }
 ],
 "metadata": {
  "kernelspec": {
   "display_name": "Python 3",
   "language": "python",
   "name": "python3"
  },
  "language_info": {
   "codemirror_mode": {
    "name": "ipython",
    "version": 3
   },
   "file_extension": ".py",
   "mimetype": "text/x-python",
   "name": "python",
   "nbconvert_exporter": "python",
   "pygments_lexer": "ipython3",
   "version": "3.8.10"
  }
 },
 "nbformat": 4,
 "nbformat_minor": 2
}
