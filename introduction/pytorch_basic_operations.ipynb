{
 "cells": [
  {
   "cell_type": "code",
   "execution_count": 7,
   "metadata": {},
   "outputs": [
    {
     "name": "stdout",
     "output_type": "stream",
     "text": [
      "1\n",
      "tensor([1.])\n",
      "[1. 2. 3.]\n",
      "[1. 2. 3.]\n",
      "(3,)\n",
      "(3,)\n",
      "[[1. 2. 3.]\n",
      " [4. 5. 6.]]\n",
      "tensor([[1., 2., 3.],\n",
      "        [4., 5., 6.]])\n",
      "(2, 3)\n",
      "torch.Size([2, 3])\n",
      "[[[1. 2.]\n",
      "  [3. 4.]]\n",
      "\n",
      " [[5. 6.]\n",
      "  [7. 8.]]]\n",
      "[[[1. 2.]\n",
      "  [3. 4.]]\n",
      "\n",
      " [[5. 6.]\n",
      "  [7. 8.]]]\n",
      "(2, 2, 2)\n",
      "(2, 2, 2)\n"
     ]
    }
   ],
   "source": [
    "import numpy as np\n",
    "import torch\n",
    "# scalar\n",
    "print(\"Scalar\")\n",
    "x_n = 1\n",
    "x_t = torch.Tensor([1])\n",
    "print(x_n)\n",
    "print(x_t)\n",
    "\n",
    "# 1D Array\n",
    "print(\"1D Array\")\n",
    "x_n = np.array([1.0,2.0,3.0])\n",
    "x_t = np.array([1.0,2.0,3.0])\n",
    "print(x_n)\n",
    "print(x_t)\n",
    "print(x_n.shape)\n",
    "print(x_t.shape)\n",
    "\n",
    "# 2D Array\n",
    "print(\"2D Array\")\n",
    "x_n = np.array([[1.0,2.0,3.0],\n",
    "                [4.0,5.0,6.0]])\n",
    "x_t = torch.Tensor([[1.0,2.0,3.0],\n",
    "                    [4.0,5.0,6.0]])\n",
    "print(x_n)\n",
    "print(x_t)\n",
    "print(x_n.shape)\n",
    "print(x_t.shape)\n",
    "\n",
    "# 3D Array\n",
    "print(\"3D Array\")\n",
    "x_n = np.array([[[1.0,2.0],[3.0,4.0]],\n",
    "                [[5.0,6.0],[7.0,8.0]]])\n",
    "x_t = np.array([[[1.0,2.0],[3.0,4.0]],\n",
    "                [[5.0,6.0],[7.0,8.0]]])\n",
    "\n",
    "print(x_n)\n",
    "print(x_t)\n",
    "print(x_n.shape)\n",
    "print(x_t.shape)\n",
    "\n",
    "# 4D Array\n",
    "print(\"4D Array\")\n",
    "x_n = np.array([[[[1,2],[3,4]],[[5,6],[7,8]]],\n",
    "                [[[1,2],[3,4]],[[5,6],[7,8]]]])\n",
    "x_t = np.array([[[[1,2],[3,4]],[[5,6],[7,8]]],\n",
    "                [[[1,2],[3,4]],[[5,6],[7,8]]]])\n",
    "print(x_n)\n",
    "print(x_t)\n",
    "print(x_n.shape)\n",
    "print(x_t.shape)"
   ]
  }
 ],
 "metadata": {
  "kernelspec": {
   "display_name": "Python 3",
   "language": "python",
   "name": "python3"
  },
  "language_info": {
   "codemirror_mode": {
    "name": "ipython",
    "version": 3
   },
   "file_extension": ".py",
   "mimetype": "text/x-python",
   "name": "python",
   "nbconvert_exporter": "python",
   "pygments_lexer": "ipython3",
   "version": "3.8.10"
  }
 },
 "nbformat": 4,
 "nbformat_minor": 2
}
